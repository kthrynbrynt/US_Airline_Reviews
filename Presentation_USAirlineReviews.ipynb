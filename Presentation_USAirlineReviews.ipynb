{
 "cells": [
  {
   "cell_type": "code",
   "execution_count": 2,
   "metadata": {},
   "outputs": [
    {
     "data": {
      "image/png": "southwest-airlines.jpeg",
      "text/plain": [
       "<IPython.core.display.Image object>"
      ]
     },
     "execution_count": 2,
     "metadata": {},
     "output_type": "execute_result"
    }
   ],
   "source": [
    "from IPython.display import Image\n",
    "Image('southwest-airlines.jpeg')"
   ]
  },
  {
   "cell_type": "markdown",
   "metadata": {},
   "source": [
    "# Increasing Airline Customer Satisfaction\n",
    "\n",
    "The sheer size of the airline industry provides a reason to care about it: it affects not only millions of people directly (flyers), but also millions more indirectly (non-flyers) by the heft of its economic presence. In a December 2016 report, the International Air Transport Association (IATA) writes: \n",
    "\n",
    "\"While airline industry profits are expected to have reached a cyclical peak in 2016 of \\$35.6 billion, a soft landing in profitable territory is expected in 2017 with a net profit of \\$29.8 billion. 2017 is expected to be the eighth year in a row of aggregate airline profitability, illustrating the resilience to shocks that have been built into the industry structure. On average, airlines will retain \\$7.54 for every passenger carried.\" [(reference)](http://www.iata.org/pressroom/pr/Pages/2016-12-08-01.aspx)\n",
    "\n",
    "![swa](southwest-airlines.jpeg)\n",
    "\n",
    "As a resident of the US and semi-frequent flyer, the US airline industry is of particular interest to me. In looking at carriers by region, the IATA concludes: \"The strongest financial performance is being delivered by airlines in North America. Net post-tax profits will be the highest at \\$18.1 billion next year [...]. The net margin for the region’s carriers is also expected to be the strongest at 8.5\\% with an average profit of \\$19.58/passenger.\" [(reference)](http://www.iata.org/pressroom/pr/Pages/2016-12-08-01.aspx)\n",
    "\n",
    "Although the North American airline industry is strong, it must be ever-vigilant about keeping up with customer demands in order to maintain its continued growth and its continued position as regional industry leader. To get a sense of what the industry and its overseers believe is important to consumers, we first turn to reports by the U.S. Department of Transportation (DOT). Each month, the DOT issues an Air Travel Consumer Report that gives statistical analyses for each major US airline company across six variables\\*: Flight Delays, Mishandled Baggage, Oversales, Consumer Complaints, Customer Service Reports to the Dept. of Homeland Security, and Airline Animal Incident Reports. In this project, we focus on consumer complaints.   \n",
    "\n",
    "In the [October 2017 report](https://www.transportation.gov/sites/dot.gov/files/docs/resources/individuals/aviation-consumer-protection/287751/2017octoberatcr_0.pdf), complaints could fall into the following categories:\n",
    "\n",
    "   * **Flight Problems**: Cancellations, delays, or any other deviations from schedule, whether planned or unplanned.\n",
    "   * **Oversales**: All bumping problems, whether or not the airline complied with DOT oversales regulations.\n",
    "   * **Reservations, Ticketing, Boarding**: Airline or travel agent mistakes made in reservations and ticketing; problems in making reservations and obtaining tickets due to busy telephone lines or waiting in line, or delays in mailing tickets; problems boarding the aircraft (except oversales).\n",
    "   * **Fares**: Incorrect or incomplete information about fares, discount fare conditions and availability, overcharges, fare increases and level of fares in general.\n",
    "   * **Refunds**: Problems in obtaining refunds for unused or lost tickets, fare adjustments, or bankruptcies.\n",
    "   * **Baggage**: Claims for lost, damaged or delayed baggage, charges for excess baggage, carry-on problems, and difficulties with airline claims procedures.\n",
    "   * **Customer Service**: Rude or unhelpful employees, inadequate meals or cabin service, treatment of delayed passengers.\n",
    "   * **Disability**: Civil rights complaints by air travelers with disabilities.\n",
    "   * **Advertising**: Advertising that is unfair, misleading or offensive to consumers.\n",
    "   * **Discrimination**: Civil rights complaints by air travelers (other than disability); for example, complaints based on race,national origin, religion, etc.\n",
    "   * **Animals**: Loss, injury or death of an animal during air transport provided by an air carrier.\n",
    "   * **Other**: Frequent flyer, smoking, tours credit, cargo problems, security, airport facilities, claims for bodily injury, and others not classified above."
   ]
  },
  {
   "cell_type": "markdown",
   "metadata": {},
   "source": [
    "## Questions:\n",
    "\n",
    "#### 1. What do customers complain about the most? Are any of the issues controllable by the airline(s)?\n",
    "\n",
    "#### 2. What are the main topics in negative reviews? In positive reviews?\n",
    "\n",
    "#### 3. What variable most negatively affects a customers' impression of an airline?\n",
    "\n",
    "#### 4. Are there any missing complaint categories? That is, are customers frequently complaining about something that isn't accounted for in the existing DOT categories?\n",
    "\n",
    "#### 5. Are there any low-cost, high-reward tweaks that could be made to increase customer satisfaction?"
   ]
  },
  {
   "cell_type": "markdown",
   "metadata": {},
   "source": [
    "## Approach: Scrape Skytrax Airline Reviews using Selenium and NLP\n",
    "\n",
    "One way to gain insights into what customers care about is to analyze review data. In this project, I scrape airline review data from [Skytrax](http://www.airlinequality.com/) for eleven major US carriers. The carriers analyzed are:\n",
    "\n",
    "   * **Alaska Airlines**\n",
    "   \n",
    "   * **Allegiant Air**\n",
    "   \n",
    "   * **American Airlines** \n",
    "   \n",
    "   * **Delta Air Lines** \n",
    "   \n",
    "   * **Frontier Airlines** \n",
    "   \n",
    "   * **Hawaiian Airlines** \n",
    "   \n",
    "   * **JetBlue Airways** \n",
    "   \n",
    "   * **Southwest Airlines** \n",
    "   \n",
    "   * **Spirit Airlines** \n",
    "   \n",
    "   * **United Airlines** \n",
    "   \n",
    "   * **Virgin America** \n",
    "\n",
    "To perform the scraping, I wrote a python script using Selenium, the full code of which can be accessed on [my GitHub](https://github.com/kthrynbrynt/US_airline_reviews). \n",
    "\n",
    "The main approach to answering the posed questions once the reviews have been scraped is to use the SpaCy python package for Natural Language Processing (NLP) to parse the text of the written reviews and perform basic phrase modeling; once that has been accomplished, we will look at how these findings interact with/impact on/depend on other variables in the data. "
   ]
  },
  {
   "cell_type": "markdown",
   "metadata": {},
   "source": [
    "## The Data\n",
    "\n",
    "The variables scraped from the Skytrax reviews are:\n",
    "\n",
    "   * **airline**: Airline with which the review-writer flew\n",
    "   * **overall**: Overall airline rating (out of 10) given by the review-writer\n",
    "   * **author**: Name of the review-writer\n",
    "   * **review_date**: Date the review was written\n",
    "   * **customer_review**: Text of the customer review\n",
    "   * **aircraft**: Aircraft class/type on which the review-writer flew\n",
    "   * **traveller_type**: Type of traveller of the review-writer \n",
    "   * **cabin**: Type of cabin/class in which the review-writer flew\n",
    "   * **route**: Origin and destination of the flight\n",
    "   * **date_flown**: Date on which the flight in question took place\n",
    "   * **seat_comfort**: Rating (out of 5) of seat comfort \n",
    "   * **cabin_service**: Rating (out of 5) of the inflight service \n",
    "   * **food_bev**: Rating (out of 5) of the quality of the inflight food and beverages\n",
    "   * **entertainment**: Rating (out of 5) of the availability and connectivity of the inflight entertainment/wifi\n",
    "   * **ground_service**: Rating (out of 5) of the service on the ground before and/or after the flight\n",
    "   * **value_for_money**: Rating (out of 5) of the value of the airline against the cost of a ticket\n",
    "   * **recommended**: Does the review-writer plan to recommend the airline to others (Yes or No)"
   ]
  },
  {
   "cell_type": "code",
   "execution_count": null,
   "metadata": {
    "collapsed": true
   },
   "outputs": [],
   "source": []
  },
  {
   "cell_type": "code",
   "execution_count": null,
   "metadata": {
    "collapsed": true
   },
   "outputs": [],
   "source": []
  },
  {
   "cell_type": "code",
   "execution_count": null,
   "metadata": {
    "collapsed": true
   },
   "outputs": [],
   "source": []
  },
  {
   "cell_type": "code",
   "execution_count": null,
   "metadata": {
    "collapsed": true
   },
   "outputs": [],
   "source": []
  },
  {
   "cell_type": "code",
   "execution_count": null,
   "metadata": {
    "collapsed": true
   },
   "outputs": [],
   "source": []
  },
  {
   "cell_type": "code",
   "execution_count": null,
   "metadata": {
    "collapsed": true
   },
   "outputs": [],
   "source": []
  },
  {
   "cell_type": "code",
   "execution_count": null,
   "metadata": {
    "collapsed": true
   },
   "outputs": [],
   "source": []
  },
  {
   "cell_type": "code",
   "execution_count": null,
   "metadata": {
    "collapsed": true
   },
   "outputs": [],
   "source": []
  },
  {
   "cell_type": "code",
   "execution_count": null,
   "metadata": {
    "collapsed": true
   },
   "outputs": [],
   "source": []
  },
  {
   "cell_type": "code",
   "execution_count": null,
   "metadata": {
    "collapsed": true
   },
   "outputs": [],
   "source": []
  },
  {
   "cell_type": "code",
   "execution_count": null,
   "metadata": {
    "collapsed": true
   },
   "outputs": [],
   "source": []
  },
  {
   "cell_type": "code",
   "execution_count": null,
   "metadata": {
    "collapsed": true
   },
   "outputs": [],
   "source": []
  },
  {
   "cell_type": "code",
   "execution_count": null,
   "metadata": {
    "collapsed": true
   },
   "outputs": [],
   "source": []
  },
  {
   "cell_type": "markdown",
   "metadata": {
    "collapsed": true
   },
   "source": [
    "\n",
    "\\*As explained on the [DOT website](https://www.transportation.gov/airconsumer/air-travel-consumer-reports):\n",
    "\n",
    "\"The section that deals with consumer complaints is based on data compiled by the OAEP's Aviation Consumer Protection Division (ACPD). The section that deals with customer service reports to the Department of Homeland Security’s Transportation Security Administration (TSA) is based on data provided by TSA. The section that deals with animal incidents during air transport is based on reports required to be submitted by airlines to the ACPD.\"\n",
    "\n",
    "The October 2017 Air Travel Consumer Report can be found [here](https://www.transportation.gov/sites/dot.gov/files/docs/resources/individuals/aviation-consumer-protection/287751/2017octoberatcr_0.pdf)."
   ]
  },
  {
   "cell_type": "code",
   "execution_count": null,
   "metadata": {
    "collapsed": true
   },
   "outputs": [],
   "source": []
  }
 ],
 "metadata": {
  "kernelspec": {
   "display_name": "Python 3",
   "language": "python",
   "name": "python3"
  },
  "language_info": {
   "codemirror_mode": {
    "name": "ipython",
    "version": 3
   },
   "file_extension": ".py",
   "mimetype": "text/x-python",
   "name": "python",
   "nbconvert_exporter": "python",
   "pygments_lexer": "ipython3",
   "version": "3.6.2"
  }
 },
 "nbformat": 4,
 "nbformat_minor": 2
}
